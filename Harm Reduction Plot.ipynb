{
 "cells": [
  {
   "cell_type": "code",
   "execution_count": 8,
   "metadata": {},
   "outputs": [
    {
     "name": "stdout",
     "output_type": "stream",
     "text": [
      "Loaded 1774 docs\n"
     ]
    }
   ],
   "source": [
    "import numpy as np\n",
    "import pandas as pd\n",
    "import pandas_dedupe\n",
    "import matplotlib.pyplot as plt\n",
    "import spacy\n",
    "import json\n",
    "import re\n",
    "import tqdm\n",
    "\n",
    "nlp = spacy.load(\"en_core_web_lg\")\n",
    "\n",
    "articles = []\n",
    "for line in open('/Users/Ben/Desktop/Vital Strategies/Prodigy dump/Vital_Feeds_Dump_7_16_2019/Heat_Not_Burn_search_result_2019-07-16_04_07_31.940459.jsonl'):\n",
    "    articles.append(json.loads(line)[\"_source\"])\n",
    "print('Loaded {} docs'.format(len(articles)))"
   ]
  },
  {
   "cell_type": "code",
   "execution_count": 9,
   "metadata": {},
   "outputs": [],
   "source": [
    "#canonicalize on relavant coulumns\n",
    "#pd.drop_duplicates on subset of columns\n",
    "#save file"
   ]
  },
  {
   "cell_type": "code",
   "execution_count": 10,
   "metadata": {},
   "outputs": [],
   "source": [
    "#NEED TO DO SYNONYM CONFLATION"
   ]
  },
  {
   "cell_type": "markdown",
   "metadata": {},
   "source": [
    "# Document Level Analysis with Minimal Threshold"
   ]
  },
  {
   "cell_type": "code",
   "execution_count": 11,
   "metadata": {},
   "outputs": [
    {
     "data": {
      "application/vnd.jupyter.widget-view+json": {
       "model_id": "a36b638a428e4b54b4e7109d9d784600",
       "version_major": 2,
       "version_minor": 0
      },
      "text/html": [
       "<p>Failed to display Jupyter Widget of type <code>HBox</code>.</p>\n",
       "<p>\n",
       "  If you're reading this message in the Jupyter Notebook or JupyterLab Notebook, it may mean\n",
       "  that the widgets JavaScript is still loading. If this message persists, it\n",
       "  likely means that the widgets JavaScript library is either not installed or\n",
       "  not enabled. See the <a href=\"https://ipywidgets.readthedocs.io/en/stable/user_install.html\">Jupyter\n",
       "  Widgets Documentation</a> for setup instructions.\n",
       "</p>\n",
       "<p>\n",
       "  If you're reading this message in another frontend (for example, a static\n",
       "  rendering on GitHub or <a href=\"https://nbviewer.jupyter.org/\">NBViewer</a>),\n",
       "  it may mean that your frontend doesn't currently support widgets.\n",
       "</p>\n"
      ],
      "text/plain": [
       "HBox(children=(IntProgress(value=0, max=1774), HTML(value='')))"
      ]
     },
     "metadata": {},
     "output_type": "display_data"
    },
    {
     "name": "stdout",
     "output_type": "stream",
     "text": [
      "\n"
     ]
    }
   ],
   "source": [
    "#DOCUMENT LEVEL\n",
    "\n",
    "harm_reduction_keywords = [\"harm\", \"reduce\", \"alternative\", \"safe\", \"healthy\", \"help\", \"quit\", \"switch\"]\n",
    "#ensure keywords are in fact properly lemmanized\n",
    "for i in range(len(harm_reduction_keywords)):\n",
    "    harm_reduction_keywords[i] = nlp(harm_reduction_keywords[i])[0].lemma_.lower()\n",
    "    \n",
    "    \n",
    "count_by_date = {} #{\"MM/YYYY\":[PMI related docs, JUUL related docs, IQOS related docs, Total docs written] } \n",
    "                    #counts the references to harm reduction with resepect to PMI, IQOS, JUUL\n",
    "PMI = 0\n",
    "JUUL = 1\n",
    "IQOS = 2\n",
    "TOTAL_DOCS = 3\n",
    "\n",
    "#populate \n",
    "for year in range(1990,2020):\n",
    "    for month in range(1,13):\n",
    "        for day in range(1,32):\n",
    "            \n",
    "            if((month == 4 or month == 6 or month == 9 or month == 11) and day == 31 or (month == 2 and day > 28)):\n",
    "                break\n",
    "            \n",
    "            date = str(year)+\"-\"\n",
    "            if month < 10:\n",
    "                date += \"0\"\n",
    "            date += str(month)+\"-\"\n",
    "            if day < 10:\n",
    "                date += \"0\"\n",
    "            date += str(day)\n",
    "            count_by_date[date] = [0,0,0,0]\n",
    "            \n",
    "            \n",
    "def format_date(string):\n",
    "    return string[:10]\n",
    "\n",
    "\n",
    "aliases_list = [\n",
    "    [\"pmi\", \"philip morris\", \"calantzopoulos\"],\n",
    "    [\"juul\", \"burns\"],\n",
    "    [\"iqos\"]\n",
    "]\n",
    "\n",
    "def check_aliases(COMPANY, ents):\n",
    "    for ent in ents:\n",
    "        if ent.text.lower() in aliases_list[COMPANY]:\n",
    "            return True\n",
    "    return False\n",
    "\n",
    "THRESHOLD = .75\n",
    "#iterate through the documents\n",
    "for article in tqdm.tqdm_notebook(articles):\n",
    "    date = format_date(article[\"date\"])\n",
    "    count_by_date[date][TOTAL_DOCS] += 1\n",
    "    \n",
    "    #1. check for pro-industry\n",
    "    if article[\"first_ten_sent_prob_avg\"] > THRESHOLD:\n",
    "        doc = nlp(article[\"text\"])\n",
    "        \n",
    "        #2. check for harm reduction keyword\n",
    "        for i, word in enumerate(doc):\n",
    "            if word.lemma_.lower() in harm_reduction_keywords:\n",
    "                \n",
    "                if date == \"2019-05-13\":\n",
    "                    print( i, \"a\",word, \"BBBB\", doc.text, \"CCC\", len(doc))\n",
    "                \n",
    "                #3. check for PMI, JUUL, IQOS\n",
    "                if check_aliases(PMI,doc.ents):\n",
    "                    count_by_date[date][PMI] +=1\n",
    "                if check_aliases(JUUL,doc.ents):\n",
    "                    count_by_date[date][JUUL] +=1\n",
    "                if check_aliases(IQOS,doc.ents):                \n",
    "                    count_by_date[date][IQOS] +=1\n",
    "                \n",
    "                break\n",
    "                    "
   ]
  },
  {
   "cell_type": "code",
   "execution_count": 12,
   "metadata": {},
   "outputs": [],
   "source": [
    "data = np.asarray(list(count_by_date.items()))\n",
    "\n",
    "PMI_harm_reduction = [item[PMI] for item in data[:,1]]\n",
    "JUUL_harm_reduction = [item[JUUL] for item in data[:,1]]\n",
    "IQOS_harm_reduction = [item[IQOS] for item in data[:,1]]\n",
    "dates = list(count_by_date.keys())\n",
    "years = [year[:4] for year in list(count_by_date.keys())[::12]]"
   ]
  },
  {
   "cell_type": "code",
   "execution_count": 13,
   "metadata": {},
   "outputs": [
    {
     "data": {
      "image/png": "[encoded data removed]",
      "text/plain": [
       "<Figure size 576x432 with 1 Axes>"
      ]
     },
     "metadata": {},
     "output_type": "display_data"
    }
   ],
   "source": [
    "plt.figure(figsize=(8, 6))\n",
    "plt.plot(range(len(PMI_harm_reduction)), PMI_harm_reduction,label=\"PMI\")\n",
    "plt.plot(range(len(PMI_harm_reduction)), JUUL_harm_reduction,label=\"JUUL\")\n",
    "plt.plot(range(len(PMI_harm_reduction)), IQOS_harm_reduction,label=\"IQOS\")\n",
    "plt.title(\"Harm Reduction Related Articles Over Time\")\n",
    "plt.xlabel(\"Time\")\n",
    "plt.xticks(range(len(data))[::500], data[::500,0], rotation=300)\n",
    "plt.ylabel(\"Number of Related Docs\")\n",
    "plt.legend()\n",
    "plt.show()\n"
   ]
  },
  {
   "cell_type": "code",
   "execution_count": 7,
   "metadata": {},
   "outputs": [
    {
     "data": {
      "image/png": "[encoded data removed]",
      "text/plain": [
       "<Figure size 576x432 with 1 Axes>"
      ]
     },
     "metadata": {},
     "output_type": "display_data"
    }
   ],
   "source": [
    "plt.figure(figsize=(8, 6))\n",
    "start = 12*26*32 + 100\n",
    "end = 12*26*35-150\n",
    "plt.plot(range(len(PMI_harm_reduction))[start:end], PMI_harm_reduction[start:end],label=\"PMI\")\n",
    "plt.plot(range(len(PMI_harm_reduction))[start:end], JUUL_harm_reduction[start:end],label=\"JUUL\")\n",
    "plt.plot(range(len(PMI_harm_reduction))[start:end], IQOS_harm_reduction[start:end],label=\"IQOS\")\n",
    "plt.title(\"Harm Reduction Related Articles Over Time\")\n",
    "plt.xlabel(\"Time\")\n",
    "plt.xticks(range(len(dates))[start:end:20],dates[start:end:20], rotation=300)\n",
    "plt.ylabel(\"Number of Related Docs\")\n",
    "plt.legend()\n",
    "plt.show()"
   ]
  },
  {
   "cell_type": "code",
   "execution_count": 9,
   "metadata": {},
   "outputs": [
    {
     "data": {
      "application/vnd.jupyter.widget-view+json": {
       "model_id": "ca362f1f6b5d4fceb4ab15b7acb49240",
       "version_major": 2,
       "version_minor": 0
      },
      "text/html": [
       "<p>Failed to display Jupyter Widget of type <code>HBox</code>.</p>\n",
       "<p>\n",
       "  If you're reading this message in the Jupyter Notebook or JupyterLab Notebook, it may mean\n",
       "  that the widgets JavaScript is still loading. If this message persists, it\n",
       "  likely means that the widgets JavaScript library is either not installed or\n",
       "  not enabled. See the <a href=\"https://ipywidgets.readthedocs.io/en/stable/user_install.html\">Jupyter\n",
       "  Widgets Documentation</a> for setup instructions.\n",
       "</p>\n",
       "<p>\n",
       "  If you're reading this message in another frontend (for example, a static\n",
       "  rendering on GitHub or <a href=\"https://nbviewer.jupyter.org/\">NBViewer</a>),\n",
       "  it may mean that your frontend doesn't currently support widgets.\n",
       "</p>\n"
      ],
      "text/plain": [
       "HBox(children=(IntProgress(value=0, max=1774), HTML(value='')))"
      ]
     },
     "metadata": {},
     "output_type": "display_data"
    },
    {
     "name": "stdout",
     "output_type": "stream",
     "text": [
      "2018-10-23\n",
      "2018-10-23\n",
      "2018-10-23\n",
      "2018-10-23\n",
      "2018-10-23\n",
      "2018-10-23\n",
      "2018-10-23\n",
      "2018-10-23\n",
      "2018-10-23\n",
      "2018-10-23\n",
      "2018-10-23\n",
      "2018-10-23\n",
      "2018-10-23\n",
      "2018-10-23\n",
      "2018-10-23\n",
      "2018-10-23\n",
      "2018-10-23\n",
      "2018-10-23\n",
      "\n"
     ]
    },
    {
     "data": {
      "application/vnd.jupyter.widget-view+json": {
       "model_id": "4763ca965b884a509c607ce6e5fd26be",
       "version_major": 2,
       "version_minor": 0
      },
      "text/html": [
       "<p>Failed to display Jupyter Widget of type <code>HBox</code>.</p>\n",
       "<p>\n",
       "  If you're reading this message in the Jupyter Notebook or JupyterLab Notebook, it may mean\n",
       "  that the widgets JavaScript is still loading. If this message persists, it\n",
       "  likely means that the widgets JavaScript library is either not installed or\n",
       "  not enabled. See the <a href=\"https://ipywidgets.readthedocs.io/en/stable/user_install.html\">Jupyter\n",
       "  Widgets Documentation</a> for setup instructions.\n",
       "</p>\n",
       "<p>\n",
       "  If you're reading this message in another frontend (for example, a static\n",
       "  rendering on GitHub or <a href=\"https://nbviewer.jupyter.org/\">NBViewer</a>),\n",
       "  it may mean that your frontend doesn't currently support widgets.\n",
       "</p>\n"
      ],
      "text/plain": [
       "HBox(children=(IntProgress(value=0, max=1774), HTML(value='')))"
      ]
     },
     "metadata": {},
     "output_type": "display_data"
    },
    {
     "name": "stdout",
     "output_type": "stream",
     "text": [
      "2019-01-21\n",
      "2019-01-21\n",
      "2019-01-21\n",
      "2019-01-21\n",
      "2019-01-21\n",
      "2019-01-21\n",
      "\n"
     ]
    }
   ],
   "source": [
    "peak_dates = [date for date, val in count_by_date.items() if val[IQOS] > 5]\n",
    "\n",
    "for peak_date in peak_dates:\n",
    "    for article in tqdm.tqdm_notebook(articles): \n",
    "        if article[\"first_ten_sent_prob_avg\"] > THRESHOLD and peak_date == format_date(article[\"date\"]) and check_aliases(IQOS,nlp(article[\"text\"]).ents):\n",
    "            print(peak_date)#, article[\"text\"],\"\\n\")"
   ]
  },
  {
   "cell_type": "code",
   "execution_count": null,
   "metadata": {},
   "outputs": [],
   "source": [
    "# TODO"
   ]
  }
 ],
 "metadata": {
  "kernelspec": {
   "display_name": "Python 3",
   "language": "python",
   "name": "python3"
  },
  "language_info": {
   "codemirror_mode": {
    "name": "ipython",
    "version": 3
   },
   "file_extension": ".py",
   "mimetype": "text/x-python",
   "name": "python",
   "nbconvert_exporter": "python",
   "pygments_lexer": "ipython3",
   "version": "3.6.4"
  }
 },
 "nbformat": 4,
 "nbformat_minor": 2
}
