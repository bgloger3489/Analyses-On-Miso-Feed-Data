{
 "cells": [
  {
   "cell_type": "code",
   "execution_count": 1,
   "metadata": {},
   "outputs": [
    {
     "data": {
      "text/plain": [
       "[('tagger', <spacy.pipeline.pipes.Tagger at 0x1227d5e48>),\n",
       " ('parser', <spacy.pipeline.pipes.DependencyParser at 0x1229a3768>),\n",
       " ('ner', <spacy.pipeline.pipes.EntityRecognizer at 0x1229a37c8>)]"
      ]
     },
     "execution_count": 1,
     "metadata": {},
     "output_type": "execute_result"
    }
   ],
   "source": [
    "import datetime\n",
    "import json\n",
    "import spacy\n",
    "import tqdm\n",
    "import pandas as pd\n",
    "import re\n",
    "import numpy as np\n",
    "import csv\n",
    "import glob\n",
    "import dateutil.parser\n",
    "\n",
    "\n",
    "PATH_TO_FEEDS = 'Feeds/*.jsonl'\n",
    "\n",
    "nlp = spacy.load(\"en_core_web_lg\") #natural language processing model\n",
    "nlp.disable_pipes(\"tagger\", \"parser\", \"ner\")"
   ]
  },
  {
   "cell_type": "markdown",
   "metadata": {},
   "source": [
    "## Load Feeds"
   ]
  },
  {
   "cell_type": "code",
   "execution_count": 2,
   "metadata": {},
   "outputs": [
    {
     "name": "stdout",
     "output_type": "stream",
     "text": [
      "['Feeds/IQOS_search_result_2019-07-31_11_31_21.097108.jsonl', 'Feeds/Heat_Not_Burn_search_result_2019-07-24_07_48_28.067985.jsonl', 'Feeds/Vaping_search_result_2019-07-24_07_48_25.721746.jsonl']\n"
     ]
    }
   ],
   "source": [
    "feed_addresses = glob.glob(PATH_TO_FEEDS)\n",
    "feed_addresses = feed_addresses[1:]\n",
    "print(feed_addresses)"
   ]
  },
  {
   "cell_type": "code",
   "execution_count": 3,
   "metadata": {},
   "outputs": [],
   "source": [
    "desired_stances = [\"POSITIVE_sent_probas\",\"POSITIVE_sent_probas\",\"POSITIVE_sent_probas\"] #desired stance for every feed - Must be manually input by user\n",
    "assert len(desired_stances) == len(feed_addresses)\n"
   ]
  },
  {
   "cell_type": "code",
   "execution_count": 4,
   "metadata": {},
   "outputs": [
    {
     "name": "stdout",
     "output_type": "stream",
     "text": [
      "Loaded 13431 documents\n",
      "3\n"
     ]
    }
   ],
   "source": [
    "feeds = [] # 2d-list of feeds with articles of each\n",
    "total_articles = 0\n",
    "for i, adress in enumerate(feed_addresses):\n",
    "    feeds.append([])\n",
    "    for line in open(adress):\n",
    "        feeds[i].append(json.loads(line))\n",
    "        total_articles +=1\n",
    "\n",
    "\n",
    "CHANCE_TO_REPLACE_SNIPPET = 3.0 / total_articles  # percent chance for a current snippet to replace a stored one\n",
    "print(\"Loaded\", total_articles, \"documents\")\n",
    "print(len(feeds))"
   ]
  },
  {
   "cell_type": "markdown",
   "metadata": {},
   "source": [
    "## Setup"
   ]
  },
  {
   "cell_type": "code",
   "execution_count": 30,
   "metadata": {},
   "outputs": [],
   "source": [
    "#ensure keywords are in fact properly lemmanized\n",
    "for i in range(len(harm_reduction_keywords)):\n",
    "    harm_reduction_keywords[i] = nlp(harm_reduction_keywords[i])[0].lemma_.lower()\n",
    "    \n",
    "harm_reduction_by_country = {}\n",
    "    \n",
    "def add_to_countries(country, year):\n",
    "    if not country in harm_reduction_by_country:\n",
    "        harm_reduction_by_country[country] = {}\n",
    "        for yr in range(1990,2020):\n",
    "            harm_reduction_by_country[country][str(yr)] = 0\n",
    "    else:\n",
    "        harm_reduction_by_country[country][year] += 1\n",
    "            \n",
    "def format_date(string):\n",
    "    return dateutil.parser.parse(string)\n",
    "\n",
    "\n",
    "def avg_sentence_sentiment(article,desired_stance):\n",
    "    temp = 0.0\n",
    "    for prob in article[\"_source\"][desired_stance]:\n",
    "        if(prob != -1):\n",
    "            temp += prob\n",
    "    return temp / len(article[\"_source\"][desired_stance])"
   ]
  },
  {
   "cell_type": "markdown",
   "metadata": {},
   "source": [
    "## Iterate Over Data"
   ]
  },
  {
   "cell_type": "code",
   "execution_count": 58,
   "metadata": {},
   "outputs": [
    {
     "data": {
      "application/vnd.jupyter.widget-view+json": {
       "model_id": "1d0ae570818b401f9f3a0502c20f7703",
       "version_major": 2,
       "version_minor": 0
      },
      "text/html": [
       "<p>Failed to display Jupyter Widget of type <code>HBox</code>.</p>\n",
       "<p>\n",
       "  If you're reading this message in the Jupyter Notebook or JupyterLab Notebook, it may mean\n",
       "  that the widgets JavaScript is still loading. If this message persists, it\n",
       "  likely means that the widgets JavaScript library is either not installed or\n",
       "  not enabled. See the <a href=\"https://ipywidgets.readthedocs.io/en/stable/user_install.html\">Jupyter\n",
       "  Widgets Documentation</a> for setup instructions.\n",
       "</p>\n",
       "<p>\n",
       "  If you're reading this message in another frontend (for example, a static\n",
       "  rendering on GitHub or <a href=\"https://nbviewer.jupyter.org/\">NBViewer</a>),\n",
       "  it may mean that your frontend doesn't currently support widgets.\n",
       "</p>\n"
      ],
      "text/plain": [
       "HBox(children=(IntProgress(value=0, max=1552), HTML(value='')))"
      ]
     },
     "metadata": {},
     "output_type": "display_data"
    },
    {
     "name": "stdout",
     "output_type": "stream",
     "text": [
      "\n"
     ]
    },
    {
     "data": {
      "application/vnd.jupyter.widget-view+json": {
       "model_id": "c26c2071ed654fc092161a0d6ec56fee",
       "version_major": 2,
       "version_minor": 0
      },
      "text/html": [
       "<p>Failed to display Jupyter Widget of type <code>HBox</code>.</p>\n",
       "<p>\n",
       "  If you're reading this message in the Jupyter Notebook or JupyterLab Notebook, it may mean\n",
       "  that the widgets JavaScript is still loading. If this message persists, it\n",
       "  likely means that the widgets JavaScript library is either not installed or\n",
       "  not enabled. See the <a href=\"https://ipywidgets.readthedocs.io/en/stable/user_install.html\">Jupyter\n",
       "  Widgets Documentation</a> for setup instructions.\n",
       "</p>\n",
       "<p>\n",
       "  If you're reading this message in another frontend (for example, a static\n",
       "  rendering on GitHub or <a href=\"https://nbviewer.jupyter.org/\">NBViewer</a>),\n",
       "  it may mean that your frontend doesn't currently support widgets.\n",
       "</p>\n"
      ],
      "text/plain": [
       "HBox(children=(IntProgress(value=0, max=1800), HTML(value='')))"
      ]
     },
     "metadata": {},
     "output_type": "display_data"
    },
    {
     "name": "stdout",
     "output_type": "stream",
     "text": [
      "\n"
     ]
    },
    {
     "data": {
      "application/vnd.jupyter.widget-view+json": {
       "model_id": "16eb2b19b35d4831abb7d5f2dffa26aa",
       "version_major": 2,
       "version_minor": 0
      },
      "text/html": [
       "<p>Failed to display Jupyter Widget of type <code>HBox</code>.</p>\n",
       "<p>\n",
       "  If you're reading this message in the Jupyter Notebook or JupyterLab Notebook, it may mean\n",
       "  that the widgets JavaScript is still loading. If this message persists, it\n",
       "  likely means that the widgets JavaScript library is either not installed or\n",
       "  not enabled. See the <a href=\"https://ipywidgets.readthedocs.io/en/stable/user_install.html\">Jupyter\n",
       "  Widgets Documentation</a> for setup instructions.\n",
       "</p>\n",
       "<p>\n",
       "  If you're reading this message in another frontend (for example, a static\n",
       "  rendering on GitHub or <a href=\"https://nbviewer.jupyter.org/\">NBViewer</a>),\n",
       "  it may mean that your frontend doesn't currently support widgets.\n",
       "</p>\n"
      ],
      "text/plain": [
       "HBox(children=(IntProgress(value=0, max=10079), HTML(value='')))"
      ]
     },
     "metadata": {},
     "output_type": "display_data"
    },
    {
     "name": "stdout",
     "output_type": "stream",
     "text": [
      "2018-09-18 22:59:34 Majority of Canadians concerned about young people using e-cigarettes, national survey finds\n",
      "2018-09-18 23:50:00 Pushing back against vaping health concerns\n",
      "2018-09-18 23:50:00 Pushing back against vaping health concerns\n",
      "2018-09-18 23:50:00 Canadian tobacco exec pushes back against vaping health concerns\n",
      "2018-09-18 23:50:00 Canadian tobacco exec pushes back against vaping health concerns\n",
      "2018-09-18 23:50:00 Canadian tobacco exec pushes back against vaping health concerns\n",
      "2018-09-18 23:50:00 Canadian tobacco exec pushes back against vaping health concerns\n",
      "2018-09-18 23:50:00 Canadian tobacco exec pushes back against vaping health concerns\n",
      "2018-09-18 23:50:00 Canadian tobacco exec pushes back against vaping health concerns\n",
      "2018-09-18 23:50:00 Canadian tobacco exec pushes back against vaping health concerns\n",
      "2018-09-18 23:50:00 Canadian tobacco exec pushes back against vaping health concerns\n",
      "2018-09-18 23:50:00 Canadian tobacco exec pushes back against vaping health concerns\n",
      "2018-09-18 23:50:00 Canadian tobacco exec pushes back against vaping health concerns\n",
      "2018-09-18 23:50:00 Canadian tobacco exec pushes back against vaping health concerns\n",
      "2018-09-18 23:50:00 Canadian tobacco exec pushes back against vaping health concerns\n",
      "2018-09-18 23:50:00 Canadian tobacco exec pushes back against vaping health concerns\n",
      "2018-09-18 23:50:00 Canadian tobacco exec pushes back against vaping health concerns\n",
      "2018-09-18 23:50:00 Canadian tobacco exec pushes back against vaping health concerns\n",
      "2018-09-18 23:50:00 Canadian tobacco exec pushes back against vaping health concerns\n",
      "2018-09-18 23:50:00 Canadian tobacco exec pushes back against vaping health concerns\n",
      "2018-09-18 23:50:00 Canadian tobacco exec pushes back against vaping health concerns\n",
      "2018-09-18 23:50:00 Canadian tobacco exec pushes back against vaping health concerns\n",
      "2018-09-18 23:50:00 Canadian tobacco exec pushes back against vaping health concerns\n",
      "2018-09-18 23:50:00 Canadian tobacco exec pushes back against vaping health concerns\n",
      "2018-09-18 23:50:00 Canadian tobacco exec pushes back against vaping health concerns\n",
      "2018-09-18 23:50:00 Canadian tobacco exec pushes back against vaping health concerns\n",
      "2018-09-18 23:50:00 Canadian tobacco exec pushes back against vaping health concerns\n",
      "2018-09-18 23:50:00 Canadian tobacco exec pushes back against vaping health concerns\n",
      "2018-09-18 23:50:00 Canadian tobacco exec pushes back against vaping health concerns\n",
      "2018-09-18 23:50:00 Canadian tobacco exec pushes back against vaping health concerns\n",
      "2018-09-18 23:50:00 Canadian tobacco exec pushes back against vaping health concerns\n",
      "2018-09-18 23:50:00 Canadian tobacco exec pushes back against vaping health concerns\n",
      "2018-09-06 13:53:25 Experts condemn government's decision to ban e-cigarettes\n",
      "\n"
     ]
    }
   ],
   "source": [
    "DOC_THRESHOLD = .35\n",
    "\n",
    "DESIRED_TIME = datetime.datetime(2018,6,15)\n",
    "TIME_RANGE = datetime.timedelta(days=365//2)\n",
    "DESIRED_LOCATION = \"CAN\"\n",
    "\n",
    "#iterate over feeds\n",
    "for feed_number, feed in enumerate(feeds):\n",
    "    #iterate over the articles\n",
    "    for article in tqdm.tqdm_notebook(feed):\n",
    "        \n",
    "        #check the region, check the date\n",
    "        #gather keywords, interesting sents, interesting articles\n",
    "        \n",
    "        date = format_date(article[\"_source\"][\"date\"])\n",
    "        \n",
    "        #1. check within time range\n",
    "        if(abs(date-DESIRED_TIME) < TIME_RANGE):\n",
    "            \n",
    "            #2. check location\n",
    "            for country in article[\"_source\"][\"countries\"]:\n",
    "                if country[\"country_name\"] == DESIRED_LOCATION:\n",
    "\n",
    "                    #2. check for pro-industry\n",
    "                    if avg_sentence_sentiment(article,desired_stances[feed_number]) >= DOC_THRESHOLD:#article[\"_source\"][desired_stances[feed_number]] > THRESHOLD:\n",
    "                        #docs = nlp.pipe(article[\"_source\"][\"sents\"])\n",
    "                        print(date, article[\"_source\"][\"title\"])#, article[\"_source\"][\"sents\"][:4])\n",
    "                        \n",
    "                    break\n"
   ]
  },
  {
   "cell_type": "code",
   "execution_count": null,
   "metadata": {},
   "outputs": [],
   "source": []
  }
 ],
 "metadata": {
  "kernelspec": {
   "display_name": "Python 3",
   "language": "python",
   "name": "python3"
  },
  "language_info": {
   "codemirror_mode": {
    "name": "ipython",
    "version": 3
   },
   "file_extension": ".py",
   "mimetype": "text/x-python",
   "name": "python",
   "nbconvert_exporter": "python",
   "pygments_lexer": "ipython3",
   "version": "3.6.4"
  }
 },
 "nbformat": 4,
 "nbformat_minor": 2
}
